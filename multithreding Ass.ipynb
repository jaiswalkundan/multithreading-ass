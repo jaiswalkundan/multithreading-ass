{
 "cells": [
  {
   "cell_type": "markdown",
   "id": "9f64f4e9-e18b-4021-8399-9d6094b41d36",
   "metadata": {},
   "source": [
    "Q1.what is multithreading in python? why is it used? Name the module used to handle threads in python"
   ]
  },
  {
   "cell_type": "markdown",
   "id": "31fa729a-c5de-4191-ab57-c6208ac6f926",
   "metadata": {},
   "source": [
    "multithreading in python refers to the concurrent execution of multiple threads within the same process. Threads are smaller units of a process that can run independently allowing for parallel executing of tasks.Multithreading is used to improve performance by enabling a program to execute multiple operations concurrently."
   ]
  },
  {
   "cell_type": "code",
   "execution_count": null,
   "id": "672c2c4f-82f7-4f77-a5dc-12b014991400",
   "metadata": {},
   "outputs": [],
   "source": [
    "Q2. why threading module used? write the use of the following functions:\n"
   ]
  },
  {
   "cell_type": "code",
   "execution_count": null,
   "id": "f0c49acb-428b-47d2-b74e-5b5733dc1fad",
   "metadata": {},
   "outputs": [],
   "source": [
    "1.activeCount()\n",
    "2. currentThread()\n",
    "3. enumerate()"
   ]
  },
  {
   "cell_type": "markdown",
   "id": "955b361c-4d15-4b10-b786-267b4e58aef0",
   "metadata": {},
   "source": [
    "the threading module in python is used for concurrent executing, allowing multiple threads to run parallel.\n"
   ]
  },
  {
   "cell_type": "markdown",
   "id": "64abbc35-5c92-4784-92a5-1c6772a43c2b",
   "metadata": {},
   "source": [
    "1.activeCount(): this function is get the number of Thread object currently alive. it return the current number of threads objects that active\n",
    "\n",
    "2.currentThread():This function return the current thread object corresponding to the caller.\n",
    "\n",
    "3. enumerate():This function return a list of all threads bject current thread object as well.its usefu for obtaining a list of all acitve threads for monitoring or debugging purposes."
   ]
  },
  {
   "cell_type": "code",
   "execution_count": null,
   "id": "f8dd0eaa-e6c1-4336-b4c7-53eb8f1fb6ed",
   "metadata": {},
   "outputs": [],
   "source": [
    "Q3. Explain the following functions\n",
    "1 run()\n",
    "2 start()\n",
    "3 join()\n",
    "4 isAlive()"
   ]
  },
  {
   "cell_type": "markdown",
   "id": "10c9d776-7420-40b4-a8d6-d8dccc5154ba",
   "metadata": {},
   "source": [
    "run(): this method is typically overridden in a class that extends the 'thread' class in python\n",
    "it contain the code that will be executed when the thread is started using start()\n",
    "\n",
    "start() initiates the executing of the thread when called run() method in a separate thread of control.\n",
    "\n",
    "join() the join method is used to ensure that the program waits for a thread to finish its excution before moving on to the next part of program\n",
    "\n",
    "isAlive(); this method is used to check whether a thread is still executing has completed its execution.\n",
    "its return True if the thread is still running and False otherwise."
   ]
  },
  {
   "cell_type": "code",
   "execution_count": null,
   "id": "443d55d9-4e74-4410-9ada-c92dc03869ce",
   "metadata": {},
   "outputs": [],
   "source": [
    "Q 4 write a python program to create two threads. Thread one must print the list of squares and thread\n",
    "two must print the list of cubes"
   ]
  },
  {
   "cell_type": "code",
   "execution_count": 6,
   "id": "42eb69e2-797c-45a4-a6e2-adb4732566c1",
   "metadata": {},
   "outputs": [
    {
     "name": "stdout",
     "output_type": "stream",
     "text": [
      "Thread 1 - Squares: [1, 4, 9, 16, 25]\n",
      "Thread 2 - Cubes: [1, 8, 27, 64, 125]\n"
     ]
    },
    {
     "ename": "AttributeError",
     "evalue": "'Thread' object has no attribute 'jion'",
     "output_type": "error",
     "traceback": [
      "\u001b[0;31m---------------------------------------------------------------------------\u001b[0m",
      "\u001b[0;31mAttributeError\u001b[0m                            Traceback (most recent call last)",
      "Cell \u001b[0;32mIn[6], line 17\u001b[0m\n\u001b[1;32m     14\u001b[0m thread2\u001b[38;5;241m.\u001b[39mstart()\n\u001b[1;32m     16\u001b[0m thread1\u001b[38;5;241m.\u001b[39mjoin()\n\u001b[0;32m---> 17\u001b[0m \u001b[43mthread2\u001b[49m\u001b[38;5;241;43m.\u001b[39;49m\u001b[43mjion\u001b[49m()\n",
      "\u001b[0;31mAttributeError\u001b[0m: 'Thread' object has no attribute 'jion'"
     ]
    }
   ],
   "source": [
    "import threading \n",
    "\n",
    "def print_squares():\n",
    "    squares = [x **2 for x in range(1,6)]\n",
    "    print(\"Thread 1 - Squares:\",squares)\n",
    "def print_cubes():\n",
    "    cubes=[x ** 3 for x in range(1,6)]\n",
    "    print(\"Thread 2 - Cubes:\",cubes)\n",
    "    \n",
    "thread1= threading.Thread(target=print_squares)\n",
    "thread2= threading.Thread(target=print_cubes)\n",
    "\n",
    "thread1.start()\n",
    "thread2.start()\n",
    "\n",
    "thread1.join()\n",
    "thread2.jion()\n",
    "    \n",
    "              "
   ]
  },
  {
   "cell_type": "code",
   "execution_count": null,
   "id": "e101c0d3-3028-4ec1-a479-ea4366a66f91",
   "metadata": {},
   "outputs": [],
   "source": [
    " Q.5 State advantages and disadvantages of multithreading"
   ]
  },
  {
   "cell_type": "markdown",
   "id": "49a63c98-106e-4059-b2ca-be9154e85bc1",
   "metadata": {},
   "source": [
    "Advantage\n",
    "1 Concurrency\n",
    "2.Responsiveness\n",
    "3.Resource Sharing\n",
    "4.parallelism\n",
    "5.Task Decompostition\n",
    "\n",
    "Disadvantages\n",
    "1.complexity\n",
    "2.difficulty in Debugging\n",
    "3.Resourse overhead\n",
    "4.scalability limitations\n",
    "5.platform Dependency\n"
   ]
  },
  {
   "cell_type": "code",
   "execution_count": null,
   "id": "520b2634-6f35-45bf-a9df-3859247e6d0d",
   "metadata": {},
   "outputs": [],
   "source": [
    "Explain deadlocks and race conditions."
   ]
  },
  {
   "cell_type": "markdown",
   "id": "4b967a58-822e-4702-b8c0-44ba20c6b7d2",
   "metadata": {},
   "source": [
    "A deadlock occurs in concurrent programming when two or more process are unable  to proceed because each is waiting for the other to realse a resourse\n",
    "it creat"
   ]
  },
  {
   "cell_type": "code",
   "execution_count": null,
   "id": "5a5339d0-7c3c-4a55-bbf0-a41f49f58465",
   "metadata": {},
   "outputs": [],
   "source": []
  },
  {
   "cell_type": "code",
   "execution_count": null,
   "id": "54a3578d-b984-4f7b-91a3-c6bff105d861",
   "metadata": {},
   "outputs": [],
   "source": []
  },
  {
   "cell_type": "code",
   "execution_count": null,
   "id": "e7521eef-ba6d-4fcd-83c4-534056ad8d40",
   "metadata": {},
   "outputs": [],
   "source": []
  },
  {
   "cell_type": "code",
   "execution_count": null,
   "id": "39ab071d-c439-46f5-a5c0-f3f19a2ab121",
   "metadata": {},
   "outputs": [],
   "source": []
  },
  {
   "cell_type": "code",
   "execution_count": null,
   "id": "c71c206a-96e6-47d5-9814-1cf9fd2995e7",
   "metadata": {},
   "outputs": [],
   "source": []
  },
  {
   "cell_type": "code",
   "execution_count": null,
   "id": "a2540ec6-cf76-41df-84f9-38e8d9cf7049",
   "metadata": {},
   "outputs": [],
   "source": []
  },
  {
   "cell_type": "code",
   "execution_count": null,
   "id": "3fb40737-fc4e-4a6d-8ba6-707985580d5a",
   "metadata": {},
   "outputs": [],
   "source": []
  },
  {
   "cell_type": "code",
   "execution_count": null,
   "id": "667d08cc-d6b1-4f0f-9375-ad7f2e466dd3",
   "metadata": {},
   "outputs": [],
   "source": []
  },
  {
   "cell_type": "code",
   "execution_count": null,
   "id": "8d3285af-bdc9-43f1-8243-ebd87400dbd3",
   "metadata": {},
   "outputs": [],
   "source": []
  }
 ],
 "metadata": {
  "kernelspec": {
   "display_name": "Python 3 (ipykernel)",
   "language": "python",
   "name": "python3"
  },
  "language_info": {
   "codemirror_mode": {
    "name": "ipython",
    "version": 3
   },
   "file_extension": ".py",
   "mimetype": "text/x-python",
   "name": "python",
   "nbconvert_exporter": "python",
   "pygments_lexer": "ipython3",
   "version": "3.10.8"
  }
 },
 "nbformat": 4,
 "nbformat_minor": 5
}
